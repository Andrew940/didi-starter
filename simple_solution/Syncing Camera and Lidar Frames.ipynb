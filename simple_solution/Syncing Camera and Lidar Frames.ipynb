{
 "cells": [
  {
   "cell_type": "code",
   "execution_count": 5,
   "metadata": {
    "ExecuteTime": {
     "end_time": "2017-04-04T21:23:17.486006Z",
     "start_time": "2017-04-05T05:23:17.476156+08:00"
    },
    "collapsed": true,
    "deletable": true,
    "editable": true
   },
   "outputs": [],
   "source": [
    "import numpy as np\n",
    "import cv2\n",
    "import shutil\n",
    "import sensor_msgs.point_cloud2 as pc2\n",
    "import os\n",
    "import rosbag\n",
    "import matplotlib.pylab as plt\n",
    "%matplotlib inline"
   ]
  },
  {
   "cell_type": "markdown",
   "metadata": {
    "deletable": true,
    "editable": true
   },
   "source": [
    "# Write Camera and Lidar Frames to Disk"
   ]
  },
  {
   "cell_type": "code",
   "execution_count": 12,
   "metadata": {
    "ExecuteTime": {
     "end_time": "2017-04-04T21:26:06.091632Z",
     "start_time": "2017-04-05T05:25:47.722661+08:00"
    },
    "collapsed": false,
    "deletable": true,
    "editable": true
   },
   "outputs": [],
   "source": [
    "data_dir = \"/media/andy/Storage/Challenge/Didi-Training-Release-1/\"\n",
    "bag_name = 'approach_1.bag'\n",
    "bag_file = os.path.join(data_dir, bag_name)\n",
    "\n",
    "image_dir = data_dir + bag_name.split('.')[0] + '_image/'\n",
    "lidar_dir = data_dir + bag_name.split('.')[0] + '_lidar/'\n",
    "#os.system('rm -r ' + image_dir)\n",
    "#os.system('rm -r ' + lidar_dir)\n",
    "os.system('mkdir ' + image_dir)\n",
    "os.system('mkdir ' + lidar_dir)\n",
    "\n",
    "bag = rosbag.Bag(\"/media/andy/Storage/Challenge/Didi-Training-Release-1/approach_1.bag\", \"r\")\n",
    "messages = bag.read_messages(topics=[\"/image_raw\", \"/velodyne_points\"])\n",
    "\n",
    "# READ AND WRITE DATA FRAMES\n",
    "for msg in messages:\n",
    "    #print msg.topic, msg.timestamp\n",
    "    \n",
    "    if 'velodyne_points' in msg.topic:\n",
    "        # CONVERT MESSAGE TO A NUMPY ARRAY\n",
    "        lidar = pc2.read_points(msg.message)\n",
    "        lidar = np.array(list(lidar))\n",
    "        \n",
    "        # SAVE TO DISK\n",
    "        np.save(lidar_dir + str(msg.timestamp), lidar)\n",
    "\n",
    "    if 'image_raw' in msg.topic:\n",
    "        # CONVERT MESSAGE TO A NUMPY ARRAY\n",
    "        img = np.fromstring(msg.message.data, dtype=np.uint8)\n",
    "        img = img.reshape(msg.message.height, msg.message.width)\n",
    "\n",
    "        # CONVERT TO RGB\n",
    "        img = cv2.cvtColor(img, cv2.COLOR_BayerGR2BGR)\n",
    "        \n",
    "        # SAVE TO DISK\n",
    "        cv2.imwrite(image_dir + str(msg.timestamp) + '.png', img)"
   ]
  },
  {
   "cell_type": "markdown",
   "metadata": {
    "deletable": true,
    "editable": true
   },
   "source": [
    "# Sync Camera and Lidar Frames"
   ]
  },
  {
   "cell_type": "code",
   "execution_count": 13,
   "metadata": {
    "ExecuteTime": {
     "end_time": "2017-04-04T21:26:18.827557Z",
     "start_time": "2017-04-05T05:26:15.944546+08:00"
    },
    "collapsed": false,
    "deletable": true,
    "editable": true
   },
   "outputs": [],
   "source": [
    "lidar_files = np.array([int(lidar.split('.')[0]) for lidar in os.listdir(lidar_dir)])\n",
    "image_files = np.array([int(image.split('.')[0]) for image in os.listdir(image_dir)])\n",
    "\n",
    "# FOR EACH IMAGE, MAKE THE NEAREST LIDAR FRAME ITS CORRESPONDENCE\n",
    "for image in image_files:\n",
    "    nearest_lidar = min(lidar_files, key=lambda x:abs(x-image))\n",
    "    \n",
    "    src_lidar = lidar_dir + str(nearest_lidar) + '.npy'\n",
    "    dst_lidar = lidar_dir + str(image) + '.npy'\n",
    "    \n",
    "    shutil.copyfile(src_lidar, dst_lidar)\n",
    "\n",
    "# DELETE ALL LEFTOVER LIDAR FRAMES\n",
    "for lidar in lidar_files:\n",
    "    if lidar not in image_files:\n",
    "        redundant_lidar_file = lidar_dir + str(lidar) + '.npy'\n",
    "        os.remove(redundant_lidar_file)"
   ]
  }
 ],
 "metadata": {
  "anaconda-cloud": {},
  "hide_input": false,
  "kernelspec": {
   "display_name": "Python [default]",
   "language": "python",
   "name": "python2"
  },
  "language_info": {
   "codemirror_mode": {
    "name": "ipython",
    "version": 2
   },
   "file_extension": ".py",
   "mimetype": "text/x-python",
   "name": "python",
   "nbconvert_exporter": "python",
   "pygments_lexer": "ipython2",
   "version": "2.7.12"
  },
  "toc": {
   "nav_menu": {
    "height": "11px",
    "width": "251px"
   },
   "navigate_menu": true,
   "number_sections": true,
   "sideBar": true,
   "threshold": 4,
   "toc_cell": false,
   "toc_section_display": "block",
   "toc_window_display": false
  }
 },
 "nbformat": 4,
 "nbformat_minor": 2
}
