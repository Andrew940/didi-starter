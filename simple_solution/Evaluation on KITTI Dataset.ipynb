{
 "cells": [
  {
   "cell_type": "code",
   "execution_count": 42,
   "metadata": {
    "ExecuteTime": {
     "end_time": "2017-05-01T04:35:31.379561Z",
     "start_time": "2017-05-01T12:35:31.364917+08:00"
    },
    "collapsed": true
   },
   "outputs": [],
   "source": [
    "import matplotlib.pyplot as plt\n",
    "import numpy as np\n",
    "import cv2\n",
    "import parseTrackletXML as xmlParser\n",
    "import os\n",
    "\n",
    "#label_path = '/home/husky/data/kitti_object/data_object_image_2/training/label_2/'\n",
    "#image_path = '/home/husky/data/kitti_object/data_object_image_2/training/image_2/'\n",
    "#calib_path = '/home/husky/data/kitti_object/data_object_calib/training/calib/'\n",
    "\n",
    "label_dir = '/home/husky/github/vehicle-detector/2011_09_26/2011_09_26_drive_0009_sync/predict_02/'\n",
    "image_dir = '/home/husky/github/vehicle-detector/2011_09_26/2011_09_26_drive_0009_sync/image_02/data/'\n",
    "calib_dir = '/home/husky/github/vehicle-detector/2011_09_26/2011_09_26_drive_0009_sync/calib_02/'\n",
    "\n",
    "dataset = [name.split('.')[0] for name in sorted(os.listdir(label_dir))]"
   ]
  },
  {
   "cell_type": "markdown",
   "metadata": {},
   "source": [
    "# Main Evaluation Code"
   ]
  },
  {
   "cell_type": "code",
   "execution_count": 61,
   "metadata": {
    "ExecuteTime": {
     "end_time": "2017-05-02T12:40:30.526702Z",
     "start_time": "2017-05-02T20:40:21.667617+08:00"
    },
    "code_folding": [],
    "collapsed": true
   },
   "outputs": [],
   "source": [
    "video_out = '/home/husky/data/kitti_3D.avi'\n",
    "video_writer = None\n",
    "\n",
    "all_image = sorted(os.listdir(image_dir))\n",
    "#np.random.shuffle(all_image)\n",
    "\n",
    "for f in all_image:\n",
    "    image_file = image_dir + f\n",
    "    calib_file = calib_dir + f.replace('png', 'txt')\n",
    "    predi_file = predi_dir + f.replace('png', 'txt')\n",
    "\n",
    "    # read calibration data\n",
    "    for line in open(calib_file):\n",
    "        if 'P2:' in line:\n",
    "            cam_to_img = line.strip().split(' ')\n",
    "            cam_to_img = np.asarray([float(number) for number in cam_to_img[1:]])\n",
    "            cam_to_img = np.reshape(cam_to_img, (3,4))\n",
    "        \n",
    "    image = cv2.imread(image_file)\n",
    "    cars = []\n",
    "    \n",
    "    if video_writer is None:\n",
    "        fourcc = cv2.VideoWriter_fourcc(*'XVID')\n",
    "        video_writer = cv2.VideoWriter(video_out, fourcc, 25.0, (1242, 375))\n",
    "\n",
    "    # Draw 3D Bounding Box\n",
    "    for line in open(predi_file):\n",
    "        line = line.strip().split(' ')\n",
    "\n",
    "        dims   = np.asarray([float(number) for number in line[8:11]])\n",
    "        center = np.asarray([float(number) for number in line[11:14]])\n",
    "        rot_y  = float(line[3]) + np.arctan(center[0]/center[2])#float(line[14])\n",
    "\n",
    "        box_3d = []\n",
    "\n",
    "        for i in [1,-1]:\n",
    "            for j in [1,-1]:\n",
    "                for k in [0,1]:\n",
    "                    point = np.copy(center)\n",
    "                    point[0] = center[0] + i * dims[1]/2 * np.cos(-rot_y+np.pi/2) + (j*i) * dims[2]/2 * np.cos(-rot_y)\n",
    "                    point[2] = center[2] + i * dims[1]/2 * np.sin(-rot_y+np.pi/2) + (j*i) * dims[2]/2 * np.sin(-rot_y)                  \n",
    "                    point[1] = center[1] - k * dims[0]\n",
    "\n",
    "                    point = np.append(point, 1)\n",
    "                    point = np.dot(cam_to_img, point)\n",
    "                    point = point[:2]/point[2]\n",
    "                    point = point.astype(np.int16)\n",
    "                    box_3d.append(point)\n",
    "\n",
    "        for i in xrange(4):\n",
    "            point_1_ = box_3d[2*i]\n",
    "            point_2_ = box_3d[2*i+1]\n",
    "            cv2.line(image, (point_1_[0], point_1_[1]), (point_2_[0], point_2_[1]), (0,255,0), 2)\n",
    "\n",
    "        for i in xrange(8):\n",
    "            point_1_ = box_3d[i]\n",
    "            point_2_ = box_3d[(i+2)%8]\n",
    "            cv2.line(image, (point_1_[0], point_1_[1]), (point_2_[0], point_2_[1]), (0,255,0), 2)\n",
    "                \n",
    "    video_writer.write(np.uint8(image))"
   ]
  },
  {
   "cell_type": "markdown",
   "metadata": {},
   "source": [
    "# Prepare Image and Prediction for Demo Video"
   ]
  },
  {
   "cell_type": "code",
   "execution_count": 41,
   "metadata": {
    "ExecuteTime": {
     "end_time": "2017-05-01T04:32:04.279631Z",
     "start_time": "2017-05-01T12:32:03.810676+08:00"
    },
    "code_folding": [],
    "collapsed": true
   },
   "outputs": [],
   "source": [
    "image_dir = '/home/husky/github/vehicle-detector/2011_09_26/2011_09_26_drive_0009_sync/image_02/data/'\n",
    "box2d_dir = '/home/husky/github/vehicle-detector/2011_09_26/2011_09_26_drive_0009_sync/box_2d/'\n",
    "box3d_dir = '/home/husky/github/vehicle-detector/2011_09_26/2011_09_26_drive_0009_sync/box_3d/'\n",
    "label_dir = '/home/husky/github/vehicle-detector/2011_09_26/2011_09_26_drive_0009_sync/label_02/'\n",
    "calib_dir = '/home/husky/github/vehicle-detector/2011_09_26/2011_09_26_drive_0009_sync/calib_02/'\n",
    "predi_dir = '/home/husky/github/vehicle-detector/2011_09_26/2011_09_26_drive_0009_sync/predict_02/'\n",
    "\n",
    "all_image = sorted(os.listdir(image_dir))\n",
    "#np.random.shuffle(all_image)\n",
    "\n",
    "for f in all_image:\n",
    "    image_file = image_dir + f\n",
    "    box2d_file = box2d_dir + f.replace('png', 'txt')\n",
    "    box3d_file = box3d_dir + f.replace('png', 'txt')\n",
    "    label_file = label_dir + f.replace('png', 'txt')\n",
    "    calib_file = calib_dir + f.replace('png', 'txt')\n",
    "    predi_file = predi_dir + f.replace('png', 'txt')\n",
    "    \n",
    "    with open(predi_file, 'w') as prediction:\n",
    "        # Construct list of all candidate centers\n",
    "        centers_2d = []\n",
    "        centers_3d = []\n",
    "\n",
    "        for line in open(calib_file):\n",
    "            if 'P2:' in line:\n",
    "                cam_to_img = line.strip().split(' ')\n",
    "                cam_to_img = np.asarray([float(number) for number in cam_to_img[1:]])\n",
    "                cam_to_img = np.reshape(cam_to_img, (3,4))\n",
    "\n",
    "        for line in open(label_file):\n",
    "            line = line.strip().split(' ')\n",
    "\n",
    "            center = np.asarray([float(number) for number in line[11:14]])\n",
    "            center = np.append(center, 1)\n",
    "            center = np.dot(cam_to_img, center)\n",
    "            center = center[:2]/center[2]\n",
    "            center = center.astype(np.int16)\n",
    "\n",
    "            centers_2d.append(center)\n",
    "            centers_3d.append(np.asarray([float(number) for number in line[11:14]]))\n",
    "\n",
    "        # Find the nearest centres among the candidates\n",
    "        for line in open(box3d_file):\n",
    "            line = line.strip().split(' ')\n",
    "\n",
    "            obj = {'xmin':int(float(line[4])),\n",
    "                   'ymin':int(float(line[5])),\n",
    "                   'xmax':int(float(line[6])),\n",
    "                   'ymax':int(float(line[7])),}\n",
    "\n",
    "            center = np.asarray([(obj['xmin']+obj['xmax'])/2., (obj['ymin'] + obj['ymax'])/2.])\n",
    "\n",
    "            nearest_index = -1\n",
    "            last_distance = 1000000000.\n",
    "\n",
    "            for i in xrange(len(centers_2d)):\n",
    "                candidate = centers_2d[i]\n",
    "                distance = np.sum(np.square(center - candidate))\n",
    "\n",
    "                if distance < 1000 and distance < last_distance:\n",
    "                    nearest_index = i\n",
    "                    last_distance = distance\n",
    "\n",
    "            if nearest_index > -1:\n",
    "                line += list(centers_3d[nearest_index])\n",
    "                del centers_2d[nearest_index]\n",
    "                del centers_3d[nearest_index]\n",
    "                \n",
    "                # Write regressed 3D dim and oritent to file\n",
    "                line = ' '.join([str(item) for item in line]) + '\\n'\n",
    "                prediction.write(line)"
   ]
  },
  {
   "cell_type": "markdown",
   "metadata": {
    "ExecuteTime": {
     "end_time": "2017-04-15T08:15:03.026854Z",
     "start_time": "2017-04-15T16:15:03.017783+08:00"
    }
   },
   "source": [
    "# Prepare Image and Label"
   ]
  },
  {
   "cell_type": "code",
   "execution_count": 63,
   "metadata": {
    "ExecuteTime": {
     "end_time": "2017-04-29T08:25:01.646134Z",
     "start_time": "2017-04-29T16:25:00.481192+08:00"
    },
    "code_folding": [
     62,
     67
    ]
   },
   "outputs": [
    {
     "name": "stdout",
     "output_type": "stream",
     "text": [
      "parsing tracklet file /home/husky/github/vehicle-detector/2011_09_26/2011_09_26_drive_0009_sync/tracklet_labels.xml\n",
      "file contains 98 tracklets\n",
      "loaded 98 tracklets\n",
      "P2: 7.215377e+02 0.000000e+00 6.095593e+02 4.485728e+01 0.000000e+00 7.215377e+02 1.728540e+02 2.163791e-01 0.000000e+00 0.000000e+00 1.000000e+00 2.745884e-03\n",
      "\n"
     ]
    }
   ],
   "source": [
    "kittiDir = '/home/husky/github/vehicle-detector/2011_09_26/'\n",
    "drive = '2011_09_26_drive_0009_sync/'\n",
    "\n",
    "label_dir = kittiDir + drive + 'label_02/'\n",
    "image_dir = kittiDir + drive + 'image_02/data/'\n",
    "calib_dir = kittiDir + drive + 'calib_02/'\n",
    "\n",
    "# FIGURE OUT THE LABELS\n",
    "os.system('rm ' + label_dir + '*')\n",
    "os.system('rm ' + calib_dir + '*')\n",
    "\n",
    "# Read transformation matrices\n",
    "for line in open(kittiDir + drive + 'calib_velo_to_cam.txt'):\n",
    "    if 'R:' in line:\n",
    "        R = line.strip().split(' ')\n",
    "        R = np.asarray([float(number) for number in R[1:]])\n",
    "        R = np.reshape(R, (3,3))\n",
    "        \n",
    "    if 'T:' in line:\n",
    "        T = line.strip().split(' ')\n",
    "        T = np.asarray([float(number) for number in T[1:]])\n",
    "        T = np.reshape(T, (3,1))\n",
    "        \n",
    "for line in open(kittiDir + drive + 'calib_cam_to_cam.txt'):\n",
    "    if 'R_rect_00:' in line:\n",
    "        R0_rect = line.strip().split(' ')\n",
    "        R0_rect = np.asarray([float(number) for number in R0_rect[1:]])\n",
    "        R0_rect = np.reshape(R0_rect, (3,3))\n",
    "\n",
    "R0_rect = np.append(R0_rect, np.zeros((3,1)), axis=1)\n",
    "R0_rect = np.append(R0_rect, np.zeros((1,4)), axis=0)\n",
    "R0_rect[-1,-1] = 1\n",
    "\n",
    "Tr_velo_to_cam = np.concatenate([R,T],axis=1)\n",
    "Tr_velo_to_cam = np.append(Tr_velo_to_cam, np.zeros((1,4)), axis=0)\n",
    "Tr_velo_to_cam[-1,-1] = 1\n",
    "\n",
    "transform = np.dot(R0_rect, Tr_velo_to_cam)\n",
    "\n",
    "#print Tr_velo_to_cam\n",
    "#print R0_rect\n",
    "#print transform\n",
    "\n",
    "# Read the tracklets\n",
    "for trackletObj in xmlParser.parseXML(kittiDir + drive + 'tracklet_labels.xml'):\n",
    "    for translation, rotation, state, occlusion, truncation, amtOcclusion, amtBorders, absoluteFrameNumber in trackletObj:\n",
    "        label_file = label_dir + str(absoluteFrameNumber).zfill(10) + '.txt'\n",
    "        \n",
    "        translation = np.append(translation, 1)\n",
    "        translation = np.dot(transform, translation)\n",
    "        translation = translation[:3]/translation[3]\n",
    "        \n",
    "        with open(label_file, 'a') as file_writer:\n",
    "            line = [trackletObj.objectType] + [0,0,rotation[2]] + [0,0,0,0] + list(trackletObj.size) + list(translation) + [rotation[2]]\n",
    "            line = ' '.join([str(item) for item in line]) + '\\n'\n",
    "            file_writer.write(line)\n",
    "            \n",
    "# FIGURE OUT THE CALIBRATION\n",
    "for line in open(kittiDir + drive + 'calib_cam_to_cam.txt'):\n",
    "    if 'P_rect_02' in line:\n",
    "        line_P2 = line.replace('P_rect_02', 'P2')\n",
    "        print line_P2\n",
    "        \n",
    "for image in os.listdir(image_dir):\n",
    "    label_file = label_dir + image.split('.')[0] + '.txt'\n",
    "    calib_file = calib_dir + image.split('.')[0] + '.txt'\n",
    "    \n",
    "    # Create calib files\n",
    "    with open(calib_file, 'w') as file_writer:\n",
    "        file_writer.write(line_P2)\n",
    "    \n",
    "    # Fix missing lables\n",
    "    with open(label_file, 'a') as file_writer:\n",
    "        file_writer.write('')\n",
    "        \n"
   ]
  }
 ],
 "metadata": {
  "anaconda-cloud": {},
  "kernelspec": {
   "display_name": "Python [conda env:tf]",
   "language": "python",
   "name": "conda-env-tf-py"
  },
  "language_info": {
   "codemirror_mode": {
    "name": "ipython",
    "version": 2
   },
   "file_extension": ".py",
   "mimetype": "text/x-python",
   "name": "python",
   "nbconvert_exporter": "python",
   "pygments_lexer": "ipython2",
   "version": "2.7.13"
  },
  "toc": {
   "colors": {
    "hover_highlight": "#DAA520",
    "running_highlight": "#FF0000",
    "selected_highlight": "#FFD700"
   },
   "moveMenuLeft": true,
   "nav_menu": {
    "height": "29px",
    "width": "251px"
   },
   "navigate_menu": true,
   "number_sections": true,
   "sideBar": true,
   "threshold": 4,
   "toc_cell": false,
   "toc_section_display": "block",
   "toc_window_display": false
  }
 },
 "nbformat": 4,
 "nbformat_minor": 2
}
