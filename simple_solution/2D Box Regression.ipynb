{
 "cells": [
  {
   "cell_type": "code",
   "execution_count": 1,
   "metadata": {
    "ExecuteTime": {
     "end_time": "2017-05-01T02:07:39.507528Z",
     "start_time": "2017-05-01T10:07:37.427767+08:00"
    },
    "collapsed": true
   },
   "outputs": [],
   "source": [
    "from __future__ import absolute_import\n",
    "from __future__ import division\n",
    "\n",
    "import cv2\n",
    "import time\n",
    "import sys\n",
    "import os\n",
    "import glob\n",
    "\n",
    "import numpy as np\n",
    "import tensorflow as tf\n",
    "from moviepy.editor import VideoFileClip\n",
    "\n",
    "from config import *\n",
    "from train import _draw_box\n",
    "from nets import *\n",
    "\n",
    "os.environ[\"CUDA_DEVICE_ORDER\"]=\"PCI_BUS_ID\"\n",
    "os.environ[\"CUDA_VISIBLE_DEVICES\"]=\"1\""
   ]
  },
  {
   "cell_type": "code",
   "execution_count": 2,
   "metadata": {
    "ExecuteTime": {
     "end_time": "2017-05-01T02:07:40.382080Z",
     "start_time": "2017-05-01T10:07:40.371174+08:00"
    },
    "collapsed": true
   },
   "outputs": [],
   "source": [
    "FLAGS = tf.app.flags.FLAGS\n",
    "\n",
    "tf.app.flags.DEFINE_string(\n",
    "    'mode', 'image', \"\"\"'image' or 'video'.\"\"\")\n",
    "tf.app.flags.DEFINE_string(\n",
    "    'checkpoint', '../data/model_checkpoints/squeezeDet/model.ckpt-87000',\n",
    "    \"\"\"Path to the model parameter file.\"\"\")\n",
    "tf.app.flags.DEFINE_string(\n",
    "    'input_path', '/home/husky/github/vehicle-detector/19_f2_image/',\n",
    "    \"\"\"Input image or video to be detected. Can process glob input such as \"\"\"\n",
    "    \"\"\"./data/00000*.png.\"\"\")\n",
    "tf.app.flags.DEFINE_string(\n",
    "    'out_dir', '../data/out/', \"\"\"Directory to dump output image or video.\"\"\")"
   ]
  },
  {
   "cell_type": "markdown",
   "metadata": {
    "heading_collapsed": true
   },
   "source": [
    "## Detection on Video"
   ]
  },
  {
   "cell_type": "code",
   "execution_count": 28,
   "metadata": {
    "ExecuteTime": {
     "end_time": "2017-04-10T14:20:11.610425Z",
     "start_time": "2017-04-10T21:35:46.655377+08:00"
    },
    "code_folding": [],
    "hidden": true
   },
   "outputs": [
    {
     "name": "stdout",
     "output_type": "stream",
     "text": [
      "INFO:tensorflow:Summary name mean iou is illegal; using mean_iou instead.\n"
     ]
    }
   ],
   "source": [
    "video_inp = '/home/husky/data/highway.mp4'\n",
    "video_out = '/home/husky/data/highway_squeeze.avi'\n",
    "\n",
    "video_reader = cv2.VideoCapture(video_inp)\n",
    "video_writer = None\n",
    "   \n",
    "with tf.Graph().as_default():\n",
    "\n",
    "    # Load model\n",
    "    mc = kitti_squeezeDet_config()\n",
    "    mc.BATCH_SIZE = 1\n",
    "\n",
    "    # model parameters will be restored from checkpoint\n",
    "    mc.LOAD_PRETRAINED_MODEL = False\n",
    "    model = SqueezeDet(mc, FLAGS.gpu)\n",
    "\n",
    "    saver = tf.train.Saver(model.model_params)\n",
    "\n",
    "    with tf.Session(config=tf.ConfigProto(allow_soft_placement=True)) as sess:\n",
    "        saver.restore(sess, FLAGS.checkpoint)\n",
    "        \n",
    "        while(True):\n",
    "            ret, im = video_reader.read()\n",
    "            \n",
    "            if ret == True:\n",
    "                #im = im[200:575, :1242]\n",
    "                im = im[400:775, :1242]\n",
    "                #im = im[:160]\n",
    "                \n",
    "                im = im.astype(np.float32, copy=False)\n",
    "                im = cv2.resize(im, (mc.IMAGE_WIDTH, mc.IMAGE_HEIGHT))\n",
    "                input_image = im - mc.BGR_MEANS\n",
    "\n",
    "                # Detect\n",
    "                (det_boxes, det_probs, det_class) = \\\n",
    "                    sess.run([model.det_boxes, model.det_probs,\n",
    "                             model.det_class],\n",
    "                             feed_dict={model.image_input: [input_image],\n",
    "                             model.keep_prob: 1.0})\n",
    "\n",
    "                # Filter\n",
    "                (final_boxes, final_probs, final_class) = \\\n",
    "                    model.filter_prediction(det_boxes[0], det_probs[0],\n",
    "                        det_class[0])\n",
    "\n",
    "                keep_idx = [idx for idx in range(len(final_probs))\n",
    "                            if final_probs[idx] > mc.PLOT_PROB_THRESH]\n",
    "                final_boxes = [final_boxes[idx] for idx in keep_idx]\n",
    "                final_probs = [final_probs[idx] for idx in keep_idx]\n",
    "                final_class = [final_class[idx] for idx in keep_idx]\n",
    "\n",
    "                # TODO(bichen): move this color dict to configuration file\n",
    "                cls2clr = {'car': (255, 191, 0), 'cyclist': (0, 191, 255),\n",
    "                           'pedestrian': (255, 0, 191)}\n",
    "\n",
    "                # Draw boxes\n",
    "                _draw_box(im, final_boxes, [mc.CLASS_NAMES[idx] + ': (%.2f)'\n",
    "                           % prob for (idx, prob) in zip(final_class,\n",
    "                          final_probs)], cdict=cls2clr)\n",
    "\n",
    "                if video_writer is None:\n",
    "                    fourcc = cv2.VideoWriter_fourcc(*'XVID')\n",
    "                    video_writer = cv2.VideoWriter(video_out, fourcc, 50.0, (1242, 375))\n",
    "                    \n",
    "                video_writer.write(np.uint8(im))\n",
    "            else:\n",
    "                break\n",
    "\n",
    "video_writer.release()"
   ]
  },
  {
   "cell_type": "markdown",
   "metadata": {
    "heading_collapsed": true
   },
   "source": [
    "## Detection on Images"
   ]
  },
  {
   "cell_type": "code",
   "execution_count": 4,
   "metadata": {
    "ExecuteTime": {
     "end_time": "2017-05-01T02:09:43.620286Z",
     "start_time": "2017-05-01T10:08:46.655013+08:00"
    },
    "code_folding": [],
    "hidden": true
   },
   "outputs": [
    {
     "name": "stdout",
     "output_type": "stream",
     "text": [
      "INFO:tensorflow:Summary name mean iou is illegal; using mean_iou instead.\n"
     ]
    }
   ],
   "source": [
    "#video_inp = '/home/husky/github/vehicle-detector/19_f2_image/'\n",
    "video_inp = '/home/husky/github/vehicle-detector/2011_09_26/2011_09_26_drive_0009_sync/image_02/data/'\n",
    "video_out = '/home/husky/data/squeeze_kitti.avi'\n",
    "\n",
    "video_writer = None\n",
    "\n",
    "with tf.Graph().as_default():\n",
    "\n",
    "    # Load model\n",
    "    mc = kitti_squeezeDet_config()\n",
    "    mc.BATCH_SIZE = 1\n",
    "\n",
    "    # model parameters will be restored from checkpoint\n",
    "    mc.LOAD_PRETRAINED_MODEL = False\n",
    "    model = SqueezeDet(mc, FLAGS.gpu)\n",
    "\n",
    "    saver = tf.train.Saver(model.model_params)\n",
    "\n",
    "    with tf.Session(config=tf.ConfigProto(allow_soft_placement=True)) as sess:\n",
    "        saver.restore(sess, FLAGS.checkpoint)\n",
    "\n",
    "        for f in sorted(os.listdir(video_inp)):\n",
    "            f = video_inp + f\n",
    "            im = cv2.imread(f)\n",
    "            \n",
    "            if video_writer is None:\n",
    "                fourcc = cv2.VideoWriter_fourcc(*'XVID')\n",
    "                video_writer = cv2.VideoWriter(video_out, fourcc, 25.0, (1242, 375))\n",
    "            \n",
    "            im = im.astype(np.float32, copy=False)\n",
    "            #im = im[400:775, :1242]\n",
    "            im = cv2.resize(im, (mc.IMAGE_WIDTH, mc.IMAGE_HEIGHT))\n",
    "            input_image = im - mc.BGR_MEANS\n",
    "\n",
    "            # Detect\n",
    "            (det_boxes, det_probs, det_class) = \\\n",
    "                sess.run([model.det_boxes, model.det_probs,\n",
    "                         model.det_class],\n",
    "                         feed_dict={model.image_input: [input_image],\n",
    "                         model.keep_prob: 1.0})\n",
    "\n",
    "            # Filter\n",
    "            (final_boxes, final_probs, final_class) = \\\n",
    "                model.filter_prediction(det_boxes[0], det_probs[0],\n",
    "                    det_class[0])\n",
    "\n",
    "            keep_idx = [idx for idx in range(len(final_probs))\n",
    "                        if final_probs[idx] > mc.PLOT_PROB_THRESH]\n",
    "            final_boxes = [final_boxes[idx] for idx in keep_idx]\n",
    "            final_probs = [final_probs[idx] for idx in keep_idx]\n",
    "            final_class = [final_class[idx] for idx in keep_idx]\n",
    "\n",
    "            # TODO(bichen): move this color dict to configuration file\n",
    "            cls2clr = {'car': (255, 191, 0), 'cyclist': (0, 191, 255),\n",
    "                       'pedestrian': (255, 0, 191)}\n",
    "\n",
    "            # Draw boxes\n",
    "            _draw_box(im, final_boxes, [mc.CLASS_NAMES[idx] + ': (%.2f)'\n",
    "                       % prob for (idx, prob) in zip(final_class,\n",
    "                      final_probs)], cdict=cls2clr)\n",
    "\n",
    "            file_name = f.split('/')[-1]\n",
    "            out_file_name = os.path.join(FLAGS.out_dir, 'out_'\n",
    "                    + file_name)\n",
    "            \n",
    "            video_writer.write(np.uint8(im))\n",
    "\n",
    "video_writer.release()"
   ]
  },
  {
   "cell_type": "markdown",
   "metadata": {
    "heading_collapsed": true
   },
   "source": [
    "## Regress 2D Boxes for Demo Video"
   ]
  },
  {
   "cell_type": "code",
   "execution_count": 25,
   "metadata": {
    "ExecuteTime": {
     "end_time": "2017-05-01T02:47:09.032988Z",
     "start_time": "2017-05-01T10:47:09.022063+08:00"
    },
    "collapsed": true,
    "hidden": true
   },
   "outputs": [],
   "source": [
    "def bbox_transform(bbox):\n",
    "    cx, cy, w, h = bbox\n",
    "    out_box = [[]]*4\n",
    "    out_box[0] = cx-w/2\n",
    "    out_box[1] = cy-h/2\n",
    "    out_box[2] = cx+w/2\n",
    "    out_box[3] = cy+h/2\n",
    "\n",
    "    return out_box"
   ]
  },
  {
   "cell_type": "code",
   "execution_count": 27,
   "metadata": {
    "ExecuteTime": {
     "end_time": "2017-05-01T02:48:14.245243Z",
     "start_time": "2017-05-01T10:47:34.846669+08:00"
    },
    "code_folding": [],
    "hidden": true
   },
   "outputs": [
    {
     "name": "stdout",
     "output_type": "stream",
     "text": [
      "INFO:tensorflow:Summary name mean iou is illegal; using mean_iou instead.\n"
     ]
    }
   ],
   "source": [
    "#video_inp = '/home/husky/github/vehicle-detector/19_f2_image/'\n",
    "video_inp = '/home/husky/github/vehicle-detector/2011_09_26/2011_09_26_drive_0009_sync/image_02/data/'\n",
    "\n",
    "with tf.Graph().as_default():\n",
    "\n",
    "    # Load model\n",
    "    mc = kitti_squeezeDet_config()\n",
    "    mc.BATCH_SIZE = 1\n",
    "\n",
    "    # model parameters will be restored from checkpoint\n",
    "    mc.LOAD_PRETRAINED_MODEL = False\n",
    "    model = SqueezeDet(mc, FLAGS.gpu)\n",
    "\n",
    "    saver = tf.train.Saver(model.model_params)\n",
    "\n",
    "    with tf.Session(config=tf.ConfigProto(allow_soft_placement=True)) as sess:\n",
    "        saver.restore(sess, FLAGS.checkpoint)\n",
    "\n",
    "        for f in sorted(os.listdir(video_inp)):\n",
    "            f = video_inp + f\n",
    "            im = cv2.imread(f)\n",
    "            \n",
    "            im = im.astype(np.float32, copy=False)\n",
    "            #im = im[400:775, :1242]\n",
    "            im = cv2.resize(im, (mc.IMAGE_WIDTH, mc.IMAGE_HEIGHT))\n",
    "            input_image = im - mc.BGR_MEANS\n",
    "\n",
    "            # Detect\n",
    "            (det_boxes, det_probs, det_class) = \\\n",
    "                sess.run([model.det_boxes, model.det_probs,\n",
    "                         model.det_class],\n",
    "                         feed_dict={model.image_input: [input_image],\n",
    "                         model.keep_prob: 1.0})\n",
    "\n",
    "            # Filter\n",
    "            (final_boxes, final_probs, final_class) = \\\n",
    "                model.filter_prediction(det_boxes[0], det_probs[0],\n",
    "                    det_class[0])\n",
    "\n",
    "            keep_idx = [idx for idx in range(len(final_probs))\n",
    "                        if final_probs[idx] > mc.PLOT_PROB_THRESH]\n",
    "            final_boxes = [final_boxes[idx] for idx in keep_idx]\n",
    "            final_probs = [final_probs[idx] for idx in keep_idx]\n",
    "            final_class = [final_class[idx] for idx in keep_idx]\n",
    "\n",
    "            # TODO(bichen): move this color dict to configuration file\n",
    "            cls2clr = {'car': (255, 191, 0), 'cyclist': (0, 191, 255),\n",
    "                       'pedestrian': (255, 0, 191)}\n",
    "\n",
    "            # Draw boxes\n",
    "            _draw_box(im, final_boxes, [mc.CLASS_NAMES[idx] + ': (%.2f)'\n",
    "                       % prob for (idx, prob) in zip(final_class,\n",
    "                      final_probs)], cdict=cls2clr)\n",
    "\n",
    "            file_name = f.split('/')[-1]\n",
    "            out_file_name = os.path.join(FLAGS.out_dir, 'out_'\n",
    "                    + file_name)\n",
    "            \n",
    "            predict = f.replace('image_02/data/', 'predict_02/')\n",
    "            predict = predict.replace('png', 'txt')\n",
    "            \n",
    "            with open(predict, 'w') as predict_file:\n",
    "                for i in xrange(len(final_class)):\n",
    "                    if final_class[i] == 0:\n",
    "                        bbox = bbox_transform(final_boxes[i])\n",
    "                        line = 'Car 0. 0. 0. '\n",
    "                        line += ' '.join([str(item) for item in list(bbox)]) + '\\n'\n",
    "                        predict_file.write(line)   "
   ]
  }
 ],
 "metadata": {
  "anaconda-cloud": {},
  "kernelspec": {
   "display_name": "Python [conda env:tf]",
   "language": "python",
   "name": "conda-env-tf-py"
  },
  "language_info": {
   "codemirror_mode": {
    "name": "ipython",
    "version": 2
   },
   "file_extension": ".py",
   "mimetype": "text/x-python",
   "name": "python",
   "nbconvert_exporter": "python",
   "pygments_lexer": "ipython2",
   "version": "2.7.13"
  },
  "toc": {
   "colors": {
    "hover_highlight": "#DAA520",
    "running_highlight": "#FF0000",
    "selected_highlight": "#FFD700"
   },
   "moveMenuLeft": true,
   "nav_menu": {
    "height": "11px",
    "width": "251px"
   },
   "navigate_menu": true,
   "number_sections": true,
   "sideBar": true,
   "threshold": 4,
   "toc_cell": false,
   "toc_section_display": "block",
   "toc_window_display": true
  }
 },
 "nbformat": 4,
 "nbformat_minor": 2
}
